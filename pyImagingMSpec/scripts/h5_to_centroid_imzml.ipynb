{
 "cells": [
  {
   "cell_type": "code",
   "execution_count": 1,
   "metadata": {
    "collapsed": false
   },
   "outputs": [],
   "source": [
    "%load_ext autoreload\n",
    "%autoreload 2\n",
    "import sys\n",
    "import os\n",
    "sys.path.append(\"/Users/palmer/Documents/python_codebase\")\n",
    "sys.path.append(\"/Users/palmer/Documents/python_codebase/pyimzml/\")\n",
    "import pyImagingMSpec.convert.h5_to_imzml as h5_to_imzml"
   ]
  },
  {
   "cell_type": "code",
   "execution_count": null,
   "metadata": {
    "collapsed": true
   },
   "outputs": [],
   "source": [
    "filein=\"/Users/palmer/Documents/tmp_data/spheroids/batch\"\n",
    "out_dr = '/Users/palmer/Documents/tmp_data/spheroids/imzml'\n",
    "with open(filein,'r') as f:\n",
    "    for line in f.readlines():\n",
    "        fin = str(line).strip()\n",
    "        if fin.startswith(\"#\"):\n",
    "            continue\n",
    "        dr,ext = os.path.splitext(fin)\n",
    "        fn = os.path.splitext(os.path.basename(fin)[0])\n",
    "        fout = os.path.join(out_dr,fn+\"imzML\")\n",
    "        print fin     , os.path.exists(fin)\n",
    "        h5_to_imzml.centroidh5(fin,fout)"
   ]
  },
  {
   "cell_type": "code",
   "execution_count": null,
   "metadata": {
    "collapsed": false
   },
   "outputs": [],
   "source": [
    "files_in = [\n",
    "    \"/Volumes/alexandr/shared/imagingMS/External/Private/UoND/EricWeaver/Spheroids/14037s1_Spheroids24h_DHBSub/14037s1_Spheroids24h_DHBSub.h5\",\n",
    "    \"/Volumes/alexandr/shared/imagingMS/External/Private/UoND/EricWeaver/Spheroids/14040s1_Spheroids12h_DHBSub/14040s1_Spheroids12h_DHBSub.h5\",\n",
    "    \"/Volumes/alexandr/shared/imagingMS/External/Private/UoND/EricWeaver/Spheroids/Ctrl3s2_SpheroidsCtrl_DHBSub/Ctrl3s2_SpheroidsCtrl_DHBSub.h5\",\n",
    "    \"/Volumes/alexandr/shared/imagingMS/External/Private/UoND/EricWeaver/Spheroids/Spheroids_sublimation_6h/Spheroids_sublimation_6h.h5\"\n",
    "]\n",
    "out_dir = \"/Users/palmer/Documents/tmp_data/old_spheroids/\"\n",
    "\n",
    "for file_in in files_in:\n",
    "    assert os.path.isfile(file_in)\n",
    "    fname = os.path.splitext(os.path.basename(file_in))[0]\n",
    "    out_name = out_dir + fname + \"_centroid.imzml\"\n",
    "    h5_to_imzml.centroidh5(file_in,out_name,smoothMethod='apodization') "
   ]
  }
 ],
 "metadata": {
  "kernelspec": {
   "display_name": "Python 2",
   "language": "python",
   "name": "python2"
  },
  "language_info": {
   "codemirror_mode": {
    "name": "ipython",
    "version": 2
   },
   "file_extension": ".py",
   "mimetype": "text/x-python",
   "name": "python",
   "nbconvert_exporter": "python",
   "pygments_lexer": "ipython2",
   "version": "2.7.10"
  }
 },
 "nbformat": 4,
 "nbformat_minor": 0
}
