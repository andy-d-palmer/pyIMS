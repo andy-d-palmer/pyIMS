{
 "cells": [
  {
   "cell_type": "code",
   "execution_count": 1,
   "metadata": {
    "collapsed": false
   },
   "outputs": [],
   "source": [
    "import matplotlib.pyplot as plt\n",
    "import sys\n",
    "%matplotlib inline\n",
    "sys.path.append('/Users/palmer/Documents/python_codebase/')\n",
    "from pyImagingMSpec.hdf5.IMSdataset import IMSdataset\n",
    "from pyMS import centroid_detection\n",
    "from pyImzML import ImzMLParser\n",
    "import h5py\n",
    "import datetime\n",
    "import numpy as np\n",
    "from IPython.display import display, clear_output\n",
    "import scipy.signal as signal"
   ]
  },
  {
   "cell_type": "code",
   "execution_count": null,
   "metadata": {
    "collapsed": false
   },
   "outputs": [],
   "source": []
  },
  {
   "cell_type": "code",
   "execution_count": 2,
   "metadata": {
    "collapsed": false
   },
   "outputs": [
    {
     "name": "stdout",
     "output_type": "stream",
     "text": [
      "100.00\\% complete\n",
      "fin\n"
     ]
    }
   ],
   "source": [
    "### Provide file names\n",
    "filename_imzML = '/Volumes/alexandr/shared/Luca/20150824_ADP_LR_Finger_Print_FullScan_DHBsub_80x80_15um.imzML'\n",
    "filename_IMShdf5 = '/Volumes/alexandr/shared/Luca/20150824_ADP_LR_Finger_Print_FullScan_DHBsub_80x80_15um.hdf5'\n",
    "centroids = True # <- lazy hack by Andy\n",
    "\n",
    "### Provide some file info\n",
    "# note, there is support for multiple sample types within a file but the code must be updated.\n",
    "sample_name = 'finger print' \n",
    "sample_source = 'Rappez'\n",
    "sample_preparation = 'direct on glass'\n",
    "maldi_matrix = 'DHB'\n",
    "matrix_application = 'sublimation'\n",
    "### Open files\n",
    "f_in = ImzMLParser.ImzMLParser(filename_imzML)       \n",
    "f_out = h5py.File(filename_IMShdf5,'w')       #create file, truncate if exists\n",
    "### make root groups for output data\n",
    "spectral_data = f_out.create_group('spectral_data')\n",
    "spatial_data = f_out.create_group('spatial_data')\n",
    "shared_data = f_out.create_group('shared_data')\n",
    "\n",
    "### populate common variables - can hardcode as I know what these are for h5 data\n",
    "# parameters\n",
    "instrument_parameters_1 = shared_data.create_group('instrument_parameters/001')\n",
    "instrument_parameters_1.attrs['instrument name'] = 'QExactivePlus'\n",
    "instrument_parameters_1.attrs['analyser type'] = 'Qrbitrap'\n",
    "instrument_parameters_1.attrs['data conversion'] = 'imzML->hdf5:'+str(datetime.datetime.now())\n",
    "# m/z axis\n",
    "    #will centroid data so this doesn't exist\n",
    "# ROIs\n",
    "    #todo - determine and propagate all ROIs\n",
    "roi_1 = shared_data.create_group('regions_of_interest/001')\n",
    "roi_1.attrs['name'] = 'root region'\n",
    "roi_1.attrs['parent'] = ''\n",
    "# Sample\n",
    "    #todo - not write empty properties\n",
    "sample_1 = shared_data.create_group('samples/001')\n",
    "sample_1.attrs['name'] = sample_name\n",
    "sample_1.attrs['source'] = sample_source\n",
    "sample_1.attrs['preparation'] = sample_preparation\n",
    "sample_1.attrs['MALDI matrix'] = maldi_matrix\n",
    "sample_1.attrs['MALDI matrix application'] = matrix_application\n",
    "\n",
    "### write spectra\n",
    "n=0;\n",
    "for i,coords in enumerate(f_in.coordinates):\n",
    "    ## rename as I'm using old code :S\n",
    "    spot = i\n",
    "    key=str(i)\n",
    "    ## make new spectrum\n",
    "    mzs,ints = f_in.getspectrum(i)\n",
    "    if centroids == True:\n",
    "        mzs_list,intensity_list = mzs,ints\n",
    "    else:    \n",
    "        ints=signal.savgol_filter(ints, 5, 2)\n",
    "        mzs_list,intensity_list,indices_list=centroid_detection.gradient(np.asarray(mzs),np.asarray(ints),max_output=-1,weighted_bins=3)\n",
    "    if not all([m>0 for m in intensity_list]):\n",
    "        raise ValueError('whoa, wtf?')\n",
    "    # add intensities\n",
    "    this_spectrum = spectral_data.create_group(key)\n",
    "    this_intensities = this_spectrum.create_dataset('centroid_intensities',data=np.float32(intensity_list),compression=\"gzip\",compression_opts=9)\n",
    "    # add coordinates\n",
    "    if len(coords)==2:\n",
    "        coords = (coords[0],coords[1],0)\n",
    "    this_coordiantes = this_spectrum.create_dataset('coordinates',data=(coords[0],coords[1],coords[2]))\n",
    "    ## link to shared parameters\n",
    "    # mzs\n",
    "    this_mzs = this_spectrum.create_dataset('centroid_mzs',data=np.float64(mzs_list),compression=\"gzip\",compression_opts=9)\n",
    "    \n",
    "    ###\n",
    "    # ROI\n",
    "    this_spectrum['ROIs/001'] = h5py.SoftLink('/shared_data/regions_of_interest/001')\n",
    "    # Sample\n",
    "    this_spectrum['samples/001'] = h5py.SoftLink('/shared_data/samples/001')\n",
    "    # Instrument config\n",
    "    this_spectrum['instrument_parameters'] = h5py.SoftLink('/shared_data/instrument_parameters/001')\n",
    "    n+=1\n",
    "    if np.mod(n,10)==0:\n",
    "        clear_output(wait=True)\n",
    "        print '{:3.2f}\\% complete\\r'.format(round(10000.*n/len(f_in.coordinates))/100,end=\"\\r\")\n",
    "        sys.stdout.flush()\n",
    "        \n",
    "f_out.close()\n",
    "print 'fin'"
   ]
  },
  {
   "cell_type": "code",
   "execution_count": null,
   "metadata": {
    "collapsed": false
   },
   "outputs": [],
   "source": []
  },
  {
   "cell_type": "code",
   "execution_count": null,
   "metadata": {
    "collapsed": true
   },
   "outputs": [],
   "source": []
  }
 ],
 "metadata": {
  "kernelspec": {
   "display_name": "Python 2",
   "language": "python",
   "name": "python2"
  },
  "language_info": {
   "codemirror_mode": {
    "name": "ipython",
    "version": 2
   },
   "file_extension": ".py",
   "mimetype": "text/x-python",
   "name": "python",
   "nbconvert_exporter": "python",
   "pygments_lexer": "ipython2",
   "version": "2.7.9"
  }
 },
 "nbformat": 4,
 "nbformat_minor": 0
}
